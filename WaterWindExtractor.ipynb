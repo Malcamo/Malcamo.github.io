{
 "cells": [
  {
   "cell_type": "code",
   "execution_count": 11,
   "metadata": {
    "colab": {
     "base_uri": "https://localhost:8080/",
     "height": 352
    },
    "id": "cAs1k60MLLFp",
    "outputId": "cbc11274-d66f-41a8-a7df-b0db35283988"
   },
   "outputs": [
    {
     "data": {
      "text/html": [
       "<div>\n",
       "<style scoped>\n",
       "    .dataframe tbody tr th:only-of-type {\n",
       "        vertical-align: middle;\n",
       "    }\n",
       "\n",
       "    .dataframe tbody tr th {\n",
       "        vertical-align: top;\n",
       "    }\n",
       "\n",
       "    .dataframe thead th {\n",
       "        text-align: right;\n",
       "    }\n",
       "</style>\n",
       "<table border=\"1\" class=\"dataframe\">\n",
       "  <thead>\n",
       "    <tr style=\"text-align: right;\">\n",
       "      <th></th>\n",
       "      <th>Unnamed: 10</th>\n",
       "      <th>Unnamed: 11</th>\n",
       "      <th>2022</th>\n",
       "      <th>2023</th>\n",
       "      <th>2024</th>\n",
       "      <th>2025</th>\n",
       "      <th>2026</th>\n",
       "      <th>2027</th>\n",
       "      <th>2028</th>\n",
       "      <th>2029</th>\n",
       "      <th>...</th>\n",
       "      <th>2041</th>\n",
       "      <th>2042</th>\n",
       "      <th>2043</th>\n",
       "      <th>2044</th>\n",
       "      <th>2045</th>\n",
       "      <th>2046</th>\n",
       "      <th>2047</th>\n",
       "      <th>2048</th>\n",
       "      <th>2049</th>\n",
       "      <th>2050</th>\n",
       "    </tr>\n",
       "  </thead>\n",
       "  <tbody>\n",
       "    <tr>\n",
       "      <th>0</th>\n",
       "      <td>Offshore Wind - Class 1</td>\n",
       "      <td>Advanced</td>\n",
       "      <td>103.376849</td>\n",
       "      <td>93.216818</td>\n",
       "      <td>87.496250</td>\n",
       "      <td>83.605471</td>\n",
       "      <td>75.950134</td>\n",
       "      <td>68.990391</td>\n",
       "      <td>62.477264</td>\n",
       "      <td>60.958101</td>\n",
       "      <td>...</td>\n",
       "      <td>50.047900</td>\n",
       "      <td>49.620949</td>\n",
       "      <td>49.222859</td>\n",
       "      <td>48.851539</td>\n",
       "      <td>48.48705</td>\n",
       "      <td>48.146317</td>\n",
       "      <td>47.827964</td>\n",
       "      <td>47.512937</td>\n",
       "      <td>47.218180</td>\n",
       "      <td>46.933892</td>\n",
       "    </tr>\n",
       "    <tr>\n",
       "      <th>1</th>\n",
       "      <td>Offshore Wind - Class 1</td>\n",
       "      <td>Moderate</td>\n",
       "      <td>114.626802</td>\n",
       "      <td>109.704178</td>\n",
       "      <td>106.261353</td>\n",
       "      <td>103.640775</td>\n",
       "      <td>101.557258</td>\n",
       "      <td>99.837271</td>\n",
       "      <td>93.251963</td>\n",
       "      <td>86.890409</td>\n",
       "      <td>...</td>\n",
       "      <td>61.462652</td>\n",
       "      <td>61.053730</td>\n",
       "      <td>60.675182</td>\n",
       "      <td>60.301166</td>\n",
       "      <td>59.95431</td>\n",
       "      <td>59.621277</td>\n",
       "      <td>59.300994</td>\n",
       "      <td>58.992472</td>\n",
       "      <td>58.706433</td>\n",
       "      <td>58.418834</td>\n",
       "    </tr>\n",
       "  </tbody>\n",
       "</table>\n",
       "<p>2 rows × 31 columns</p>\n",
       "</div>"
      ],
      "text/plain": [
       "               Unnamed: 10 Unnamed: 11        2022        2023        2024  \\\n",
       "0  Offshore Wind - Class 1    Advanced  103.376849   93.216818   87.496250   \n",
       "1  Offshore Wind - Class 1    Moderate  114.626802  109.704178  106.261353   \n",
       "\n",
       "         2025        2026       2027       2028       2029  ...       2041  \\\n",
       "0   83.605471   75.950134  68.990391  62.477264  60.958101  ...  50.047900   \n",
       "1  103.640775  101.557258  99.837271  93.251963  86.890409  ...  61.462652   \n",
       "\n",
       "        2042       2043       2044      2045       2046       2047       2048  \\\n",
       "0  49.620949  49.222859  48.851539  48.48705  48.146317  47.827964  47.512937   \n",
       "1  61.053730  60.675182  60.301166  59.95431  59.621277  59.300994  58.992472   \n",
       "\n",
       "        2049       2050  \n",
       "0  47.218180  46.933892  \n",
       "1  58.706433  58.418834  \n",
       "\n",
       "[2 rows x 31 columns]"
      ]
     },
     "execution_count": 11,
     "metadata": {},
     "output_type": "execute_result"
    }
   ],
   "source": [
    "# prompt: i have excel file it holds energy data, the data is split over multipel tabs. i need to load one of the tabs. just give the code\n",
    "\n",
    "import pandas as pd\n",
    "\n",
    "# Replace 'your_excel_file.xlsx' with the actual file name\n",
    "# Replace 'Sheet1' with the name of the sheet you want to load\n",
    "df = pd.read_excel('2024 v2 Annual Technology Baseline Workbook Errata 7-19-2024.xlsx',\n",
    "                   sheet_name='Fixed-Bottom Offshore Wind', skiprows=277, usecols=\"K:AO\",\n",
    "                   nrows=21)\n",
    "\n",
    "df.head(2)\n"
   ]
  },
  {
   "cell_type": "code",
   "execution_count": 12,
   "metadata": {
    "colab": {
     "base_uri": "https://localhost:8080/"
    },
    "id": "uRv6HK62NhxZ",
    "outputId": "783e77a0-0455-42cf-b188-ea5ee06566e2"
   },
   "outputs": [
    {
     "data": {
      "text/plain": [
       "Index(['Unnamed: 10', 'Unnamed: 11',          2022,          2023,\n",
       "                2024,          2025,          2026,          2027,\n",
       "                2028,          2029,          2030,          2031,\n",
       "                2032,          2033,          2034,          2035,\n",
       "                2036,          2037,          2038,          2039,\n",
       "                2040,          2041,          2042,          2043,\n",
       "                2044,          2045,          2046,          2047,\n",
       "                2048,          2049,          2050],\n",
       "      dtype='object')"
      ]
     },
     "execution_count": 12,
     "metadata": {},
     "output_type": "execute_result"
    }
   ],
   "source": [
    "df.columns"
   ]
  },
  {
   "cell_type": "code",
   "execution_count": 13,
   "metadata": {
    "id": "-HuHZYgwMLfh"
   },
   "outputs": [],
   "source": [
    "df.columns = ['Class+Technology','Scenario'] + list(df.columns[2:])"
   ]
  },
  {
   "cell_type": "code",
   "execution_count": 14,
   "metadata": {
    "colab": {
     "base_uri": "https://localhost:8080/",
     "height": 429
    },
    "id": "gf0h2BhmN6V-",
    "outputId": "ce1c7bee-84c4-41fe-df1d-9cf45034f559"
   },
   "outputs": [
    {
     "data": {
      "text/html": [
       "<div>\n",
       "<style scoped>\n",
       "    .dataframe tbody tr th:only-of-type {\n",
       "        vertical-align: middle;\n",
       "    }\n",
       "\n",
       "    .dataframe tbody tr th {\n",
       "        vertical-align: top;\n",
       "    }\n",
       "\n",
       "    .dataframe thead th {\n",
       "        text-align: right;\n",
       "    }\n",
       "</style>\n",
       "<table border=\"1\" class=\"dataframe\">\n",
       "  <thead>\n",
       "    <tr style=\"text-align: right;\">\n",
       "      <th></th>\n",
       "      <th>Class+Technology</th>\n",
       "      <th>Scenario</th>\n",
       "      <th>2022</th>\n",
       "      <th>2023</th>\n",
       "      <th>2024</th>\n",
       "      <th>2025</th>\n",
       "      <th>2026</th>\n",
       "      <th>2027</th>\n",
       "      <th>2028</th>\n",
       "      <th>2029</th>\n",
       "      <th>...</th>\n",
       "      <th>2041</th>\n",
       "      <th>2042</th>\n",
       "      <th>2043</th>\n",
       "      <th>2044</th>\n",
       "      <th>2045</th>\n",
       "      <th>2046</th>\n",
       "      <th>2047</th>\n",
       "      <th>2048</th>\n",
       "      <th>2049</th>\n",
       "      <th>2050</th>\n",
       "    </tr>\n",
       "  </thead>\n",
       "  <tbody>\n",
       "    <tr>\n",
       "      <th>0</th>\n",
       "      <td>Offshore Wind - Class 1</td>\n",
       "      <td>Advanced</td>\n",
       "      <td>103.376849</td>\n",
       "      <td>93.216818</td>\n",
       "      <td>87.496250</td>\n",
       "      <td>83.605471</td>\n",
       "      <td>75.950134</td>\n",
       "      <td>68.990391</td>\n",
       "      <td>62.477264</td>\n",
       "      <td>60.958101</td>\n",
       "      <td>...</td>\n",
       "      <td>50.047900</td>\n",
       "      <td>49.620949</td>\n",
       "      <td>49.222859</td>\n",
       "      <td>48.851539</td>\n",
       "      <td>48.487050</td>\n",
       "      <td>48.146317</td>\n",
       "      <td>47.827964</td>\n",
       "      <td>47.512937</td>\n",
       "      <td>47.218180</td>\n",
       "      <td>46.933892</td>\n",
       "    </tr>\n",
       "    <tr>\n",
       "      <th>1</th>\n",
       "      <td>Offshore Wind - Class 1</td>\n",
       "      <td>Moderate</td>\n",
       "      <td>114.626802</td>\n",
       "      <td>109.704178</td>\n",
       "      <td>106.261353</td>\n",
       "      <td>103.640775</td>\n",
       "      <td>101.557258</td>\n",
       "      <td>99.837271</td>\n",
       "      <td>93.251963</td>\n",
       "      <td>86.890409</td>\n",
       "      <td>...</td>\n",
       "      <td>61.462652</td>\n",
       "      <td>61.053730</td>\n",
       "      <td>60.675182</td>\n",
       "      <td>60.301166</td>\n",
       "      <td>59.954310</td>\n",
       "      <td>59.621277</td>\n",
       "      <td>59.300994</td>\n",
       "      <td>58.992472</td>\n",
       "      <td>58.706433</td>\n",
       "      <td>58.418834</td>\n",
       "    </tr>\n",
       "    <tr>\n",
       "      <th>2</th>\n",
       "      <td>Offshore Wind - Class 1</td>\n",
       "      <td>Conservative</td>\n",
       "      <td>134.479659</td>\n",
       "      <td>133.638473</td>\n",
       "      <td>132.858906</td>\n",
       "      <td>132.159337</td>\n",
       "      <td>131.531742</td>\n",
       "      <td>130.914405</td>\n",
       "      <td>130.357895</td>\n",
       "      <td>129.830504</td>\n",
       "      <td>...</td>\n",
       "      <td>75.951716</td>\n",
       "      <td>75.603547</td>\n",
       "      <td>75.270481</td>\n",
       "      <td>74.966730</td>\n",
       "      <td>74.659882</td>\n",
       "      <td>74.380056</td>\n",
       "      <td>74.110727</td>\n",
       "      <td>73.851127</td>\n",
       "      <td>73.600524</td>\n",
       "      <td>73.358328</td>\n",
       "    </tr>\n",
       "    <tr>\n",
       "      <th>3</th>\n",
       "      <td>Offshore Wind - Class 2</td>\n",
       "      <td>Advanced</td>\n",
       "      <td>106.008751</td>\n",
       "      <td>95.606175</td>\n",
       "      <td>89.745820</td>\n",
       "      <td>85.745021</td>\n",
       "      <td>77.922784</td>\n",
       "      <td>70.804643</td>\n",
       "      <td>64.162053</td>\n",
       "      <td>62.615171</td>\n",
       "      <td>...</td>\n",
       "      <td>51.411330</td>\n",
       "      <td>50.979994</td>\n",
       "      <td>50.578549</td>\n",
       "      <td>50.185142</td>\n",
       "      <td>49.818103</td>\n",
       "      <td>49.475765</td>\n",
       "      <td>49.137400</td>\n",
       "      <td>48.821348</td>\n",
       "      <td>48.516906</td>\n",
       "      <td>48.223250</td>\n",
       "    </tr>\n",
       "    <tr>\n",
       "      <th>4</th>\n",
       "      <td>Offshore Wind - Class 2</td>\n",
       "      <td>Moderate</td>\n",
       "      <td>117.481380</td>\n",
       "      <td>112.427127</td>\n",
       "      <td>108.905965</td>\n",
       "      <td>106.235773</td>\n",
       "      <td>104.099030</td>\n",
       "      <td>102.317103</td>\n",
       "      <td>95.599213</td>\n",
       "      <td>89.092417</td>\n",
       "      <td>...</td>\n",
       "      <td>63.126194</td>\n",
       "      <td>62.703728</td>\n",
       "      <td>62.313135</td>\n",
       "      <td>61.926582</td>\n",
       "      <td>61.568517</td>\n",
       "      <td>61.224683</td>\n",
       "      <td>60.906586</td>\n",
       "      <td>60.587825</td>\n",
       "      <td>60.292775</td>\n",
       "      <td>59.995524</td>\n",
       "    </tr>\n",
       "  </tbody>\n",
       "</table>\n",
       "<p>5 rows × 31 columns</p>\n",
       "</div>"
      ],
      "text/plain": [
       "          Class+Technology      Scenario        2022        2023        2024  \\\n",
       "0  Offshore Wind - Class 1      Advanced  103.376849   93.216818   87.496250   \n",
       "1  Offshore Wind - Class 1      Moderate  114.626802  109.704178  106.261353   \n",
       "2  Offshore Wind - Class 1  Conservative  134.479659  133.638473  132.858906   \n",
       "3  Offshore Wind - Class 2      Advanced  106.008751   95.606175   89.745820   \n",
       "4  Offshore Wind - Class 2      Moderate  117.481380  112.427127  108.905965   \n",
       "\n",
       "         2025        2026        2027        2028        2029  ...       2041  \\\n",
       "0   83.605471   75.950134   68.990391   62.477264   60.958101  ...  50.047900   \n",
       "1  103.640775  101.557258   99.837271   93.251963   86.890409  ...  61.462652   \n",
       "2  132.159337  131.531742  130.914405  130.357895  129.830504  ...  75.951716   \n",
       "3   85.745021   77.922784   70.804643   64.162053   62.615171  ...  51.411330   \n",
       "4  106.235773  104.099030  102.317103   95.599213   89.092417  ...  63.126194   \n",
       "\n",
       "        2042       2043       2044       2045       2046       2047  \\\n",
       "0  49.620949  49.222859  48.851539  48.487050  48.146317  47.827964   \n",
       "1  61.053730  60.675182  60.301166  59.954310  59.621277  59.300994   \n",
       "2  75.603547  75.270481  74.966730  74.659882  74.380056  74.110727   \n",
       "3  50.979994  50.578549  50.185142  49.818103  49.475765  49.137400   \n",
       "4  62.703728  62.313135  61.926582  61.568517  61.224683  60.906586   \n",
       "\n",
       "        2048       2049       2050  \n",
       "0  47.512937  47.218180  46.933892  \n",
       "1  58.992472  58.706433  58.418834  \n",
       "2  73.851127  73.600524  73.358328  \n",
       "3  48.821348  48.516906  48.223250  \n",
       "4  60.587825  60.292775  59.995524  \n",
       "\n",
       "[5 rows x 31 columns]"
      ]
     },
     "execution_count": 14,
     "metadata": {},
     "output_type": "execute_result"
    }
   ],
   "source": [
    "df.head()"
   ]
  },
  {
   "cell_type": "code",
   "execution_count": 15,
   "metadata": {},
   "outputs": [
    {
     "data": {
      "text/html": [
       "<div>\n",
       "<style scoped>\n",
       "    .dataframe tbody tr th:only-of-type {\n",
       "        vertical-align: middle;\n",
       "    }\n",
       "\n",
       "    .dataframe tbody tr th {\n",
       "        vertical-align: top;\n",
       "    }\n",
       "\n",
       "    .dataframe thead th {\n",
       "        text-align: right;\n",
       "    }\n",
       "</style>\n",
       "<table border=\"1\" class=\"dataframe\">\n",
       "  <thead>\n",
       "    <tr style=\"text-align: right;\">\n",
       "      <th></th>\n",
       "      <th>Class+Technology</th>\n",
       "      <th>Scenario</th>\n",
       "      <th>2022</th>\n",
       "      <th>2023</th>\n",
       "      <th>2024</th>\n",
       "      <th>2025</th>\n",
       "      <th>2026</th>\n",
       "      <th>2027</th>\n",
       "      <th>2028</th>\n",
       "      <th>2029</th>\n",
       "      <th>...</th>\n",
       "      <th>2041</th>\n",
       "      <th>2042</th>\n",
       "      <th>2043</th>\n",
       "      <th>2044</th>\n",
       "      <th>2045</th>\n",
       "      <th>2046</th>\n",
       "      <th>2047</th>\n",
       "      <th>2048</th>\n",
       "      <th>2049</th>\n",
       "      <th>2050</th>\n",
       "    </tr>\n",
       "  </thead>\n",
       "  <tbody>\n",
       "    <tr>\n",
       "      <th>0</th>\n",
       "      <td>Offshore Wind - Class 1</td>\n",
       "      <td>Advanced</td>\n",
       "      <td>103.38</td>\n",
       "      <td>93.22</td>\n",
       "      <td>87.50</td>\n",
       "      <td>83.61</td>\n",
       "      <td>75.95</td>\n",
       "      <td>68.99</td>\n",
       "      <td>62.48</td>\n",
       "      <td>60.96</td>\n",
       "      <td>...</td>\n",
       "      <td>50.05</td>\n",
       "      <td>49.62</td>\n",
       "      <td>49.22</td>\n",
       "      <td>48.85</td>\n",
       "      <td>48.49</td>\n",
       "      <td>48.15</td>\n",
       "      <td>47.83</td>\n",
       "      <td>47.51</td>\n",
       "      <td>47.22</td>\n",
       "      <td>46.93</td>\n",
       "    </tr>\n",
       "    <tr>\n",
       "      <th>1</th>\n",
       "      <td>Offshore Wind - Class 1</td>\n",
       "      <td>Moderate</td>\n",
       "      <td>114.63</td>\n",
       "      <td>109.70</td>\n",
       "      <td>106.26</td>\n",
       "      <td>103.64</td>\n",
       "      <td>101.56</td>\n",
       "      <td>99.84</td>\n",
       "      <td>93.25</td>\n",
       "      <td>86.89</td>\n",
       "      <td>...</td>\n",
       "      <td>61.46</td>\n",
       "      <td>61.05</td>\n",
       "      <td>60.68</td>\n",
       "      <td>60.30</td>\n",
       "      <td>59.95</td>\n",
       "      <td>59.62</td>\n",
       "      <td>59.30</td>\n",
       "      <td>58.99</td>\n",
       "      <td>58.71</td>\n",
       "      <td>58.42</td>\n",
       "    </tr>\n",
       "  </tbody>\n",
       "</table>\n",
       "<p>2 rows × 31 columns</p>\n",
       "</div>"
      ],
      "text/plain": [
       "          Class+Technology  Scenario    2022    2023    2024    2025    2026  \\\n",
       "0  Offshore Wind - Class 1  Advanced  103.38   93.22   87.50   83.61   75.95   \n",
       "1  Offshore Wind - Class 1  Moderate  114.63  109.70  106.26  103.64  101.56   \n",
       "\n",
       "    2027   2028   2029  ...   2041   2042   2043   2044   2045   2046   2047  \\\n",
       "0  68.99  62.48  60.96  ...  50.05  49.62  49.22  48.85  48.49  48.15  47.83   \n",
       "1  99.84  93.25  86.89  ...  61.46  61.05  60.68  60.30  59.95  59.62  59.30   \n",
       "\n",
       "    2048   2049   2050  \n",
       "0  47.51  47.22  46.93  \n",
       "1  58.99  58.71  58.42  \n",
       "\n",
       "[2 rows x 31 columns]"
      ]
     },
     "execution_count": 15,
     "metadata": {},
     "output_type": "execute_result"
    }
   ],
   "source": [
    "\n",
    "df = round(df, 2)\n",
    "\n",
    "df.head(2)"
   ]
  },
  {
   "cell_type": "code",
   "execution_count": 16,
   "metadata": {
    "id": "NbAyAa7aODW6"
   },
   "outputs": [],
   "source": [
    "df['Cleaned+Technology'] = df['Class+Technology'].str.replace('Offshore Wind - ','')"
   ]
  },
  {
   "cell_type": "code",
   "execution_count": 17,
   "metadata": {},
   "outputs": [
    {
     "name": "stdout",
     "output_type": "stream",
     "text": [
      "          Class+Technology      Scenario    2022    2023    2024    2025  \\\n",
      "6  Offshore Wind - Class 3      Advanced  108.66   97.99   91.96   87.88   \n",
      "7  Offshore Wind - Class 3      Moderate  120.53  115.35  111.72  108.99   \n",
      "8  Offshore Wind - Class 3  Conservative  141.46  140.57  139.77  139.03   \n",
      "\n",
      "     2026    2027    2028    2029  ...   2042   2043   2044   2045   2046  \\\n",
      "6   79.81   72.47   65.61   64.02  ...  52.10  51.68  51.29  50.91  50.55   \n",
      "7  106.78  104.96   98.03   91.33  ...  64.12  63.72  63.33  62.96  62.61   \n",
      "8  138.34  137.71  137.12  136.56  ...  79.41  79.06  78.74  78.43  78.12   \n",
      "\n",
      "    2047   2048   2049   2050  Cleaned+Technology  \n",
      "6  50.21  49.88  49.57  49.27             Class 3  \n",
      "7  62.27  61.96  61.64  61.35             Class 3  \n",
      "8  77.84  77.56  77.30  77.04             Class 3  \n",
      "\n",
      "[3 rows x 32 columns]\n"
     ]
    }
   ],
   "source": [
    "mask = df['Cleaned+Technology'] == 'Class 3'\n",
    "df = df[mask]\n",
    "print(df)"
   ]
  },
  {
   "cell_type": "code",
   "execution_count": 21,
   "metadata": {
    "id": "g6MOSwa0OYgg"
   },
   "outputs": [
    {
     "data": {
      "text/plain": [
       "<bound method NDFrame.head of           Class+Technology      Scenario    2022    2023    2024    2025  \\\n",
       "6  Offshore Wind - Class 3      Advanced  108.66   97.99   91.96   87.88   \n",
       "7  Offshore Wind - Class 3      Moderate  120.53  115.35  111.72  108.99   \n",
       "8  Offshore Wind - Class 3  Conservative  141.46  140.57  139.77  139.03   \n",
       "\n",
       "     2026    2027    2028    2029  ...   2044   2045   2046   2047   2048  \\\n",
       "6   79.81   72.47   65.61   64.02  ...  51.29  50.91  50.55  50.21  49.88   \n",
       "7  106.78  104.96   98.03   91.33  ...  63.33  62.96  62.61  62.27  61.96   \n",
       "8  138.34  137.71  137.12  136.56  ...  78.74  78.43  78.12  77.84  77.56   \n",
       "\n",
       "    2049   2050  Cleaned+Technology  Class  Technology  \n",
       "6  49.57  49.27             Class 3      3         NaN  \n",
       "7  61.64  61.35             Class 3      3         NaN  \n",
       "8  77.30  77.04             Class 3      3         NaN  \n",
       "\n",
       "[3 rows x 34 columns]>"
      ]
     },
     "execution_count": 21,
     "metadata": {},
     "output_type": "execute_result"
    }
   ],
   "source": [
    "df['Class'] = df['Cleaned+Technology'].str.split(' - ').str[0].str.replace('Class ','').astype(int)\n",
    "df.head"
   ]
  },
  {
   "cell_type": "code",
   "execution_count": 22,
   "metadata": {
    "id": "5z3xg7bAO3li"
   },
   "outputs": [],
   "source": [
    "df2 = df.drop(['Class+Technology', 'Cleaned+Technology', 'Technology'], axis=1)"
   ]
  },
  {
   "cell_type": "code",
   "execution_count": 24,
   "metadata": {
    "id": "xi1TtbseRTvr"
   },
   "outputs": [],
   "source": [
    "df3 = df2.set_index(['Scenario','Class']).stack().reset_index()"
   ]
  },
  {
   "cell_type": "code",
   "execution_count": 26,
   "metadata": {
    "id": "zN4tY2dnR84S"
   },
   "outputs": [],
   "source": [
    "df3.columns = ['Scenario','Class','Year','Value']"
   ]
  },
  {
   "cell_type": "code",
   "execution_count": 28,
   "metadata": {},
   "outputs": [
    {
     "data": {
      "text/plain": [
       "<bound method NDFrame.head of         Scenario  Class  Year   Value\n",
       "0       Advanced      3  2022  108.66\n",
       "1       Advanced      3  2023   97.99\n",
       "2       Advanced      3  2024   91.96\n",
       "3       Advanced      3  2025   87.88\n",
       "4       Advanced      3  2026   79.81\n",
       "..           ...    ...   ...     ...\n",
       "82  Conservative      3  2046   78.12\n",
       "83  Conservative      3  2047   77.84\n",
       "84  Conservative      3  2048   77.56\n",
       "85  Conservative      3  2049   77.30\n",
       "86  Conservative      3  2050   77.04\n",
       "\n",
       "[87 rows x 4 columns]>"
      ]
     },
     "execution_count": 28,
     "metadata": {},
     "output_type": "execute_result"
    }
   ],
   "source": [
    "df3.head"
   ]
  },
  {
   "cell_type": "code",
   "execution_count": 29,
   "metadata": {
    "id": "PdCp_KQUSEGs"
   },
   "outputs": [],
   "source": [
    "df3.to_csv('offshore_wind_LCOE_cleaned.csv', index=False)\n",
    "# https://tinyurl.com/windbristol"
   ]
  }
 ],
 "metadata": {
  "colab": {
   "provenance": []
  },
  "kernelspec": {
   "display_name": "Python 3",
   "name": "python3"
  },
  "language_info": {
   "codemirror_mode": {
    "name": "ipython",
    "version": 3
   },
   "file_extension": ".py",
   "mimetype": "text/x-python",
   "name": "python",
   "nbconvert_exporter": "python",
   "pygments_lexer": "ipython3",
   "version": "3.12.7"
  }
 },
 "nbformat": 4,
 "nbformat_minor": 0
}
